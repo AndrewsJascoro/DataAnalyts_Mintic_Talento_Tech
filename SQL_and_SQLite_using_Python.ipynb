{
  "nbformat": 4,
  "nbformat_minor": 0,
  "metadata": {
    "colab": {
      "provenance": [],
      "authorship_tag": "ABX9TyMJI0CtCExk/7sDFvwyxfWw",
      "include_colab_link": true
    },
    "kernelspec": {
      "name": "python3",
      "display_name": "Python 3"
    },
    "language_info": {
      "name": "python"
    }
  },
  "cells": [
    {
      "cell_type": "markdown",
      "metadata": {
        "id": "view-in-github",
        "colab_type": "text"
      },
      "source": [
        "<a href=\"https://colab.research.google.com/github/AndrewsJascoro/DataAnalyts_Mintic_Talento_Tech/blob/main/SQL_and_SQLite_using_Python.ipynb\" target=\"_parent\"><img src=\"https://colab.research.google.com/assets/colab-badge.svg\" alt=\"Open In Colab\"/></a>"
      ]
    },
    {
      "cell_type": "code",
      "execution_count": null,
      "metadata": {
        "id": "U1tBmTQZjDrZ"
      },
      "outputs": [],
      "source": [
        "# Import required libraries\n",
        "import sqlite3\n",
        "import pandas as pd\n",
        "import zipfile\n",
        "import os\n",
        "\n",
        "# Path to the SQLite database file\n",
        "db_file_path = \"/content/database.sqlite.zip\"\n",
        "\n",
        "# Specify the extraction directory\n",
        "extracted_folder_path = \"/content/extracted_folder\"\n",
        "\n",
        "# Create the extraction directory if it doesn't exist\n",
        "os.makedirs(extracted_folder_path, exist_ok=True)\n",
        "\n",
        "# Extract the ZIP file\n",
        "with zipfile.ZipFile(db_file_path, 'r') as zip_ref:\n",
        "    zip_ref.extractall(extracted_folder_path)\n",
        "\n",
        "# Connect to the SQLite database\n",
        "conn = sqlite3.connect(os.path.join(extracted_folder_path, 'database.sqlite'))\n",
        "\n",
        "# Query data into DataFrame\n",
        "df_Country = pd.read_sql_query(\"SELECT * FROM Country\", conn)\n",
        "\n",
        "# Display the DataFrame\n",
        "print(df_Country.head())\n",
        "\n",
        "# Close the database connection\n",
        "conn.close()\n"
      ]
    }
  ]
}