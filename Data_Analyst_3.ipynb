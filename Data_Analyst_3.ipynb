{
 "cells": [
  {
   "cell_type": "code",
   "execution_count": null,
   "id": "82aaf03c-c0a0-4c9f-a806-516dda5de9fd",
   "metadata": {},
   "outputs": [],
   "source": [
    "import pandas as pd\n",
    "import matplotlib.pyplot as plt\n",
    "import seaborn as sns\n",
    "\n",
    "# Load the CSV file into a DataFrame\n",
    "file_path = 'Enter the address or path of your file, Escriba aqui la direccion de su archivo a mnaipular'\n",
    "df = pd.read_csv(file_path)\n",
    "\n",
    "# Display the DataFrame\n",
    "print(\"Sales Data:\\n\", df)\n",
    "\n",
    "# Summary statistics\n",
    "print(\"\\nSummary statistics:\\n\", df.describe())\n",
    "\n",
    "# Total sales per region\n",
    "region_sales = df.groupby('Region')['Ventas'].sum().sort_values(ascending=False)\n",
    "print(\"\\nTotal sales per region:\\n\", region_sales)\n",
    "\n",
    "# Visualizing sales by product\n",
    "plt.figure(figsize=(12, 6))\n",
    "sns.barplot(x='Producto', y='Ventas', data=df, estimator=sum, errorbar=None)\n",
    "plt.title('Total Sales by Product')\n",
    "plt.show()\n"
   ]
  }
 ],
 "metadata": {
  "kernelspec": {
   "display_name": "Python 3 (ipykernel)",
   "language": "python",
   "name": "python3"
  },
  "language_info": {
   "codemirror_mode": {
    "name": "ipython",
    "version": 3
   },
   "file_extension": ".py",
   "mimetype": "text/x-python",
   "name": "python",
   "nbconvert_exporter": "python",
   "pygments_lexer": "ipython3",
   "version": "3.11.3"
  }
 },
 "nbformat": 4,
 "nbformat_minor": 5
}
